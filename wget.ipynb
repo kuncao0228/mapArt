{
 "cells": [
  {
   "cell_type": "code",
   "execution_count": 8,
   "metadata": {},
   "outputs": [
    {
     "name": "stdout",
     "output_type": "stream",
     "text": [
      "57\n"
     ]
    }
   ],
   "source": [
    "itemlist = ['airplane', 'apple', 'angel', 'ant', 'anvil', 'axe', 'backpack',\n",
    "                            'banana', 'bandage', 'baseball', 'basketball', 'bear',\n",
    "                            'bed', 'bear', 'bee', 'bicycle', 'binoculars', 'bird',\n",
    "                            'book', 'boomerang', 'bowtie', 'brain', 'bus', 'butterfly',\n",
    "                            'cactus', 'camel', 'candle', 'cannon', 'car', 'castle', 'cat', 'cello', 'chair',\n",
    "                            'clarinet', 'computer', 'cow', 'crab', 'crocodile', 'crown', \n",
    "                            'diamond', 'dog', 'dolphin', 'donut', 'door', 'dragon', 'clock', \n",
    "                            'drums', 'duck', 'elephant', 'eye', 'fish', 'flamingo', 'flower', 'frog',\n",
    "                            'giraffe', 'guitar', 'fish']\n",
    "print(len(itemlist))"
   ]
  },
  {
   "cell_type": "code",
   "execution_count": 6,
   "metadata": {},
   "outputs": [
    {
     "name": "stdout",
     "output_type": "stream",
     "text": [
      "wget https://storage.googleapis.com/quickdraw_dataset/full/raw/airplane.ndjson\n",
      "wget https://storage.googleapis.com/quickdraw_dataset/full/raw/apple.ndjson\n",
      "wget https://storage.googleapis.com/quickdraw_dataset/full/raw/angel.ndjson\n",
      "wget https://storage.googleapis.com/quickdraw_dataset/full/raw/ant.ndjson\n",
      "wget https://storage.googleapis.com/quickdraw_dataset/full/raw/anvil.ndjson\n",
      "wget https://storage.googleapis.com/quickdraw_dataset/full/raw/axe.ndjson\n",
      "wget https://storage.googleapis.com/quickdraw_dataset/full/raw/backpack.ndjson\n",
      "wget https://storage.googleapis.com/quickdraw_dataset/full/raw/banana.ndjson\n",
      "wget https://storage.googleapis.com/quickdraw_dataset/full/raw/bandage.ndjson\n",
      "wget https://storage.googleapis.com/quickdraw_dataset/full/raw/baseball.ndjson\n",
      "wget https://storage.googleapis.com/quickdraw_dataset/full/raw/basketball.ndjson\n",
      "wget https://storage.googleapis.com/quickdraw_dataset/full/raw/bear.ndjson\n",
      "wget https://storage.googleapis.com/quickdraw_dataset/full/raw/bed.ndjson\n",
      "wget https://storage.googleapis.com/quickdraw_dataset/full/raw/bear.ndjson\n",
      "wget https://storage.googleapis.com/quickdraw_dataset/full/raw/bee.ndjson\n",
      "wget https://storage.googleapis.com/quickdraw_dataset/full/raw/bicycle.ndjson\n",
      "wget https://storage.googleapis.com/quickdraw_dataset/full/raw/binoculars.ndjson\n",
      "wget https://storage.googleapis.com/quickdraw_dataset/full/raw/bird.ndjson\n",
      "wget https://storage.googleapis.com/quickdraw_dataset/full/raw/book.ndjson\n",
      "wget https://storage.googleapis.com/quickdraw_dataset/full/raw/boomerang.ndjson\n",
      "wget https://storage.googleapis.com/quickdraw_dataset/full/raw/bowtie.ndjson\n",
      "wget https://storage.googleapis.com/quickdraw_dataset/full/raw/brain.ndjson\n",
      "wget https://storage.googleapis.com/quickdraw_dataset/full/raw/bus.ndjson\n",
      "wget https://storage.googleapis.com/quickdraw_dataset/full/raw/butterfly.ndjson\n",
      "wget https://storage.googleapis.com/quickdraw_dataset/full/raw/cactus.ndjson\n",
      "wget https://storage.googleapis.com/quickdraw_dataset/full/raw/camel.ndjson\n",
      "wget https://storage.googleapis.com/quickdraw_dataset/full/raw/candle.ndjson\n",
      "wget https://storage.googleapis.com/quickdraw_dataset/full/raw/cannon.ndjson\n",
      "wget https://storage.googleapis.com/quickdraw_dataset/full/raw/car.ndjson\n",
      "wget https://storage.googleapis.com/quickdraw_dataset/full/raw/castle.ndjson\n",
      "wget https://storage.googleapis.com/quickdraw_dataset/full/raw/cat.ndjson\n",
      "wget https://storage.googleapis.com/quickdraw_dataset/full/raw/cello.ndjson\n",
      "wget https://storage.googleapis.com/quickdraw_dataset/full/raw/chair.ndjson\n",
      "wget https://storage.googleapis.com/quickdraw_dataset/full/raw/clarinet.ndjson\n",
      "wget https://storage.googleapis.com/quickdraw_dataset/full/raw/computer.ndjson\n",
      "wget https://storage.googleapis.com/quickdraw_dataset/full/raw/cow.ndjson\n",
      "wget https://storage.googleapis.com/quickdraw_dataset/full/raw/crab.ndjson\n",
      "wget https://storage.googleapis.com/quickdraw_dataset/full/raw/crocodile.ndjson\n",
      "wget https://storage.googleapis.com/quickdraw_dataset/full/raw/crown.ndjson\n",
      "wget https://storage.googleapis.com/quickdraw_dataset/full/raw/diamond.ndjson\n",
      "wget https://storage.googleapis.com/quickdraw_dataset/full/raw/dog.ndjson\n",
      "wget https://storage.googleapis.com/quickdraw_dataset/full/raw/dolphin.ndjson\n",
      "wget https://storage.googleapis.com/quickdraw_dataset/full/raw/donut.ndjson\n",
      "wget https://storage.googleapis.com/quickdraw_dataset/full/raw/door.ndjson\n",
      "wget https://storage.googleapis.com/quickdraw_dataset/full/raw/dragon.ndjson\n",
      "wget https://storage.googleapis.com/quickdraw_dataset/full/raw/clock.ndjson\n",
      "wget https://storage.googleapis.com/quickdraw_dataset/full/raw/drums.ndjson\n",
      "wget https://storage.googleapis.com/quickdraw_dataset/full/raw/duck.ndjson\n",
      "wget https://storage.googleapis.com/quickdraw_dataset/full/raw/elephant.ndjson\n",
      "wget https://storage.googleapis.com/quickdraw_dataset/full/raw/eye.ndjson\n",
      "wget https://storage.googleapis.com/quickdraw_dataset/full/raw/fish.ndjson\n",
      "wget https://storage.googleapis.com/quickdraw_dataset/full/raw/flamingo.ndjson\n",
      "wget https://storage.googleapis.com/quickdraw_dataset/full/raw/flower.ndjson\n",
      "wget https://storage.googleapis.com/quickdraw_dataset/full/raw/frog.ndjson\n",
      "wget https://storage.googleapis.com/quickdraw_dataset/full/raw/giraffe.ndjson\n",
      "wget https://storage.googleapis.com/quickdraw_dataset/full/raw/guitar.ndjson\n",
      "wget https://storage.googleapis.com/quickdraw_dataset/full/raw/fish.ndjson\n"
     ]
    }
   ],
   "source": [
    "for item in itemlist:\n",
    "    print(\"wget https://storage.googleapis.com/quickdraw_dataset/full/raw/\" + item + \".ndjson\")"
   ]
  },
  {
   "cell_type": "code",
   "execution_count": null,
   "metadata": {},
   "outputs": [],
   "source": []
  }
 ],
 "metadata": {
  "kernelspec": {
   "display_name": "Python 3",
   "language": "python",
   "name": "python3"
  },
  "language_info": {
   "codemirror_mode": {
    "name": "ipython",
    "version": 3
   },
   "file_extension": ".py",
   "mimetype": "text/x-python",
   "name": "python",
   "nbconvert_exporter": "python",
   "pygments_lexer": "ipython3",
   "version": "3.6.12"
  }
 },
 "nbformat": 4,
 "nbformat_minor": 4
}

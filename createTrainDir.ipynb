{
 "cells": [
  {
   "cell_type": "code",
   "execution_count": 61,
   "metadata": {},
   "outputs": [],
   "source": [
    "import os\n",
    "from shutil import copyfile"
   ]
  },
  {
   "cell_type": "code",
   "execution_count": 62,
   "metadata": {},
   "outputs": [],
   "source": [
    "quickdrawPath = '/srv/share/datasets/quickdraw'\n",
    "dataPath = '/srv/share/datasets/quickdraw/rawdata'\n",
    "classPaths = []\n",
    "\n",
    "for pathName in os.listdir(dataPath):\n",
    "    \n",
    "    classPath = os.path.join(dataPath,pathName)\n",
    "    if \".\" not in pathName and os.path.isdir(classPath):\n",
    "        classPaths.append(classPath)"
   ]
  },
  {
   "cell_type": "code",
   "execution_count": 63,
   "metadata": {},
   "outputs": [],
   "source": [
    "splitRatio = .15"
   ]
  },
  {
   "cell_type": "code",
   "execution_count": 64,
   "metadata": {},
   "outputs": [
    {
     "name": "stdout",
     "output_type": "stream",
     "text": [
      "['/srv/share/datasets/quickdraw/rawdata/anvil', '/srv/share/datasets/quickdraw/rawdata/bed', '/srv/share/datasets/quickdraw/rawdata/car', '/srv/share/datasets/quickdraw/rawdata/door', '/srv/share/datasets/quickdraw/rawdata/airplane', '/srv/share/datasets/quickdraw/rawdata/basketball', '/srv/share/datasets/quickdraw/rawdata/cactus', '/srv/share/datasets/quickdraw/rawdata/fish', '/srv/share/datasets/quickdraw/rawdata/camel', '/srv/share/datasets/quickdraw/rawdata/diamond', '/srv/share/datasets/quickdraw/rawdata/bear', '/srv/share/datasets/quickdraw/rawdata/computer', '/srv/share/datasets/quickdraw/rawdata/angel', '/srv/share/datasets/quickdraw/rawdata/crab', '/srv/share/datasets/quickdraw/rawdata/duck', '/srv/share/datasets/quickdraw/rawdata/boomerang', '/srv/share/datasets/quickdraw/rawdata/flamingo', '/srv/share/datasets/quickdraw/rawdata/crown', '/srv/share/datasets/quickdraw/rawdata/clarinet', '/srv/share/datasets/quickdraw/rawdata/baseball', '/srv/share/datasets/quickdraw/rawdata/axe', '/srv/share/datasets/quickdraw/rawdata/butterfly', '/srv/share/datasets/quickdraw/rawdata/dolphin', '/srv/share/datasets/quickdraw/rawdata/drums', '/srv/share/datasets/quickdraw/rawdata/cello', '/srv/share/datasets/quickdraw/rawdata/donut', '/srv/share/datasets/quickdraw/rawdata/bus', '/srv/share/datasets/quickdraw/rawdata/book', '/srv/share/datasets/quickdraw/rawdata/backpack', '/srv/share/datasets/quickdraw/rawdata/giraffe', '/srv/share/datasets/quickdraw/rawdata/bowtie', '/srv/share/datasets/quickdraw/rawdata/bandage', '/srv/share/datasets/quickdraw/rawdata/dog', '/srv/share/datasets/quickdraw/rawdata/clock', '/srv/share/datasets/quickdraw/rawdata/cat', '/srv/share/datasets/quickdraw/rawdata/bird', '/srv/share/datasets/quickdraw/rawdata/banana', '/srv/share/datasets/quickdraw/rawdata/chair', '/srv/share/datasets/quickdraw/rawdata/brain', '/srv/share/datasets/quickdraw/rawdata/dragon', '/srv/share/datasets/quickdraw/rawdata/elephant', '/srv/share/datasets/quickdraw/rawdata/bee', '/srv/share/datasets/quickdraw/rawdata/cow', '/srv/share/datasets/quickdraw/rawdata/cannon', '/srv/share/datasets/quickdraw/rawdata/apple', '/srv/share/datasets/quickdraw/rawdata/binoculars', '/srv/share/datasets/quickdraw/rawdata/ant', '/srv/share/datasets/quickdraw/rawdata/crocodile', '/srv/share/datasets/quickdraw/rawdata/frog', '/srv/share/datasets/quickdraw/rawdata/candle', '/srv/share/datasets/quickdraw/rawdata/bicycle', '/srv/share/datasets/quickdraw/rawdata/flower', '/srv/share/datasets/quickdraw/rawdata/guitar', '/srv/share/datasets/quickdraw/rawdata/eye', '/srv/share/datasets/quickdraw/rawdata/castle']\n"
     ]
    }
   ],
   "source": [
    "print(classPaths)"
   ]
  },
  {
   "cell_type": "code",
   "execution_count": 65,
   "metadata": {},
   "outputs": [
    {
     "name": "stdout",
     "output_type": "stream",
     "text": [
      "Making Dir /srv/share/datasets/quickdraw/train\n",
      "Making Dir /srv/share/datasets/quickdraw/test\n"
     ]
    }
   ],
   "source": [
    "if not os.path.isdir(os.path.join(quickdrawPath, \"train\")):\n",
    "    print(\"Making Dir \" + os.path.join(quickdrawPath, \"train\"))\n",
    "    os.mkdir(os.path.join(quickdrawPath, \"train\"))\n",
    "    \n",
    "    \n",
    "if not os.path.isdir(os.path.join(quickdrawPath, \"test\")):\n",
    "    print(\"Making Dir \" + os.path.join(quickdrawPath, \"test\"))\n",
    "    os.mkdir(os.path.join(quickdrawPath, \"test\"))\n",
    "trainPath = \"/srv/share/datasets/quickdraw/train\"\n",
    "testPath =  \"/srv/share/datasets/quickdraw/test\""
   ]
  },
  {
   "cell_type": "code",
   "execution_count": 66,
   "metadata": {},
   "outputs": [],
   "source": [
    "for path in classPaths:\n",
    "#     print(len(os.listdir(path)))\n",
    "    splitIndex = int(splitRatio * len(os.listdir(path)))\n",
    "\n",
    "    \n",
    "    \n",
    "    count = 0\n",
    "    for file in os.listdir(path):\n",
    "        className = path.split(\"/\")[-1]\n",
    "\n",
    "        sourceFile = os.path.join(path, file)\n",
    "        if count < splitIndex:\n",
    "            destFile = os.path.join(testPath, className + \"_\" + file)\n",
    "        else:\n",
    "            destFile = os.path.join(trainPath, className + \"_\" + file)\n",
    "            \n",
    "        count += 1\n",
    "        \n",
    "        \n",
    "        copyfile(sourceFile, destFile)\n",
    "    "
   ]
  },
  {
   "cell_type": "code",
   "execution_count": 67,
   "metadata": {},
   "outputs": [
    {
     "name": "stdout",
     "output_type": "stream",
     "text": [
      "93500\n",
      "16500\n"
     ]
    }
   ],
   "source": [
    "print(len(os.listdir(trainPath)))\n",
    "print(len(os.listdir(testPath)))"
   ]
  },
  {
   "cell_type": "code",
   "execution_count": null,
   "metadata": {},
   "outputs": [],
   "source": []
  }
 ],
 "metadata": {
  "kernelspec": {
   "display_name": "Python 3",
   "language": "python",
   "name": "python3"
  },
  "language_info": {
   "codemirror_mode": {
    "name": "ipython",
    "version": 3
   },
   "file_extension": ".py",
   "mimetype": "text/x-python",
   "name": "python",
   "nbconvert_exporter": "python",
   "pygments_lexer": "ipython3",
   "version": "3.6.12"
  }
 },
 "nbformat": 4,
 "nbformat_minor": 4
}
